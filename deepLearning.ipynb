{
 "cells": [
  {
   "cell_type": "markdown",
   "id": "ae58de99",
   "metadata": {},
   "source": [
    "1. Load & Prepare Data"
   ]
  },
  {
   "cell_type": "code",
   "execution_count": 1,
   "id": "9be9c4d0",
   "metadata": {},
   "outputs": [],
   "source": [
    "import pandas as pd\n",
    "\n",
    "# Load your lemmatized balanced data\n",
    "df = pd.read_csv(\"data/cleaned_dataset/balanced_data_lemmatized.csv\") \n",
    "X = df[\"lemmatized_text\"].astype(str)\n",
    "y = df[\"Score\"]\n",
    "\n",
    "# Encode labels as integers if necessary\n",
    "label_to_int = {v:i for i,v in enumerate(sorted(y.unique()))}\n",
    "y_int = y.map(label_to_int).values\n",
    "num_classes = len(label_to_int)\n"
   ]
  },
  {
   "cell_type": "markdown",
   "id": "9d1d245e",
   "metadata": {},
   "source": [
    "2. Tokenize and Pad the Text\n"
   ]
  },
  {
   "cell_type": "code",
   "execution_count": 2,
   "id": "4eb8edc2",
   "metadata": {},
   "outputs": [
    {
     "name": "stderr",
     "output_type": "stream",
     "text": [
      "C:\\Users\\HP\\AppData\\Local\\Packages\\PythonSoftwareFoundation.Python.3.11_qbz5n2kfra8p0\\LocalCache\\local-packages\\Python311\\site-packages\\google\\protobuf\\runtime_version.py:98: UserWarning: Protobuf gencode version 5.28.3 is exactly one major version older than the runtime version 6.31.1 at tensorflow/core/framework/attr_value.proto. Please update the gencode to avoid compatibility violations in the next runtime release.\n",
      "  warnings.warn(\n",
      "C:\\Users\\HP\\AppData\\Local\\Packages\\PythonSoftwareFoundation.Python.3.11_qbz5n2kfra8p0\\LocalCache\\local-packages\\Python311\\site-packages\\google\\protobuf\\runtime_version.py:98: UserWarning: Protobuf gencode version 5.28.3 is exactly one major version older than the runtime version 6.31.1 at tensorflow/core/framework/tensor.proto. Please update the gencode to avoid compatibility violations in the next runtime release.\n",
      "  warnings.warn(\n",
      "C:\\Users\\HP\\AppData\\Local\\Packages\\PythonSoftwareFoundation.Python.3.11_qbz5n2kfra8p0\\LocalCache\\local-packages\\Python311\\site-packages\\google\\protobuf\\runtime_version.py:98: UserWarning: Protobuf gencode version 5.28.3 is exactly one major version older than the runtime version 6.31.1 at tensorflow/core/framework/resource_handle.proto. Please update the gencode to avoid compatibility violations in the next runtime release.\n",
      "  warnings.warn(\n",
      "C:\\Users\\HP\\AppData\\Local\\Packages\\PythonSoftwareFoundation.Python.3.11_qbz5n2kfra8p0\\LocalCache\\local-packages\\Python311\\site-packages\\google\\protobuf\\runtime_version.py:98: UserWarning: Protobuf gencode version 5.28.3 is exactly one major version older than the runtime version 6.31.1 at tensorflow/core/framework/tensor_shape.proto. Please update the gencode to avoid compatibility violations in the next runtime release.\n",
      "  warnings.warn(\n",
      "C:\\Users\\HP\\AppData\\Local\\Packages\\PythonSoftwareFoundation.Python.3.11_qbz5n2kfra8p0\\LocalCache\\local-packages\\Python311\\site-packages\\google\\protobuf\\runtime_version.py:98: UserWarning: Protobuf gencode version 5.28.3 is exactly one major version older than the runtime version 6.31.1 at tensorflow/core/framework/types.proto. Please update the gencode to avoid compatibility violations in the next runtime release.\n",
      "  warnings.warn(\n",
      "C:\\Users\\HP\\AppData\\Local\\Packages\\PythonSoftwareFoundation.Python.3.11_qbz5n2kfra8p0\\LocalCache\\local-packages\\Python311\\site-packages\\google\\protobuf\\runtime_version.py:98: UserWarning: Protobuf gencode version 5.28.3 is exactly one major version older than the runtime version 6.31.1 at tensorflow/core/framework/full_type.proto. Please update the gencode to avoid compatibility violations in the next runtime release.\n",
      "  warnings.warn(\n",
      "C:\\Users\\HP\\AppData\\Local\\Packages\\PythonSoftwareFoundation.Python.3.11_qbz5n2kfra8p0\\LocalCache\\local-packages\\Python311\\site-packages\\google\\protobuf\\runtime_version.py:98: UserWarning: Protobuf gencode version 5.28.3 is exactly one major version older than the runtime version 6.31.1 at tensorflow/core/framework/function.proto. Please update the gencode to avoid compatibility violations in the next runtime release.\n",
      "  warnings.warn(\n",
      "C:\\Users\\HP\\AppData\\Local\\Packages\\PythonSoftwareFoundation.Python.3.11_qbz5n2kfra8p0\\LocalCache\\local-packages\\Python311\\site-packages\\google\\protobuf\\runtime_version.py:98: UserWarning: Protobuf gencode version 5.28.3 is exactly one major version older than the runtime version 6.31.1 at tensorflow/core/framework/node_def.proto. Please update the gencode to avoid compatibility violations in the next runtime release.\n",
      "  warnings.warn(\n",
      "C:\\Users\\HP\\AppData\\Local\\Packages\\PythonSoftwareFoundation.Python.3.11_qbz5n2kfra8p0\\LocalCache\\local-packages\\Python311\\site-packages\\google\\protobuf\\runtime_version.py:98: UserWarning: Protobuf gencode version 5.28.3 is exactly one major version older than the runtime version 6.31.1 at tensorflow/core/framework/op_def.proto. Please update the gencode to avoid compatibility violations in the next runtime release.\n",
      "  warnings.warn(\n",
      "C:\\Users\\HP\\AppData\\Local\\Packages\\PythonSoftwareFoundation.Python.3.11_qbz5n2kfra8p0\\LocalCache\\local-packages\\Python311\\site-packages\\google\\protobuf\\runtime_version.py:98: UserWarning: Protobuf gencode version 5.28.3 is exactly one major version older than the runtime version 6.31.1 at tensorflow/core/framework/graph.proto. Please update the gencode to avoid compatibility violations in the next runtime release.\n",
      "  warnings.warn(\n",
      "C:\\Users\\HP\\AppData\\Local\\Packages\\PythonSoftwareFoundation.Python.3.11_qbz5n2kfra8p0\\LocalCache\\local-packages\\Python311\\site-packages\\google\\protobuf\\runtime_version.py:98: UserWarning: Protobuf gencode version 5.28.3 is exactly one major version older than the runtime version 6.31.1 at tensorflow/core/framework/graph_debug_info.proto. Please update the gencode to avoid compatibility violations in the next runtime release.\n",
      "  warnings.warn(\n",
      "C:\\Users\\HP\\AppData\\Local\\Packages\\PythonSoftwareFoundation.Python.3.11_qbz5n2kfra8p0\\LocalCache\\local-packages\\Python311\\site-packages\\google\\protobuf\\runtime_version.py:98: UserWarning: Protobuf gencode version 5.28.3 is exactly one major version older than the runtime version 6.31.1 at tensorflow/core/framework/versions.proto. Please update the gencode to avoid compatibility violations in the next runtime release.\n",
      "  warnings.warn(\n",
      "C:\\Users\\HP\\AppData\\Local\\Packages\\PythonSoftwareFoundation.Python.3.11_qbz5n2kfra8p0\\LocalCache\\local-packages\\Python311\\site-packages\\google\\protobuf\\runtime_version.py:98: UserWarning: Protobuf gencode version 5.28.3 is exactly one major version older than the runtime version 6.31.1 at tensorflow/core/protobuf/config.proto. Please update the gencode to avoid compatibility violations in the next runtime release.\n",
      "  warnings.warn(\n",
      "C:\\Users\\HP\\AppData\\Local\\Packages\\PythonSoftwareFoundation.Python.3.11_qbz5n2kfra8p0\\LocalCache\\local-packages\\Python311\\site-packages\\google\\protobuf\\runtime_version.py:98: UserWarning: Protobuf gencode version 5.28.3 is exactly one major version older than the runtime version 6.31.1 at xla/tsl/protobuf/coordination_config.proto. Please update the gencode to avoid compatibility violations in the next runtime release.\n",
      "  warnings.warn(\n",
      "C:\\Users\\HP\\AppData\\Local\\Packages\\PythonSoftwareFoundation.Python.3.11_qbz5n2kfra8p0\\LocalCache\\local-packages\\Python311\\site-packages\\google\\protobuf\\runtime_version.py:98: UserWarning: Protobuf gencode version 5.28.3 is exactly one major version older than the runtime version 6.31.1 at tensorflow/core/framework/cost_graph.proto. Please update the gencode to avoid compatibility violations in the next runtime release.\n",
      "  warnings.warn(\n",
      "C:\\Users\\HP\\AppData\\Local\\Packages\\PythonSoftwareFoundation.Python.3.11_qbz5n2kfra8p0\\LocalCache\\local-packages\\Python311\\site-packages\\google\\protobuf\\runtime_version.py:98: UserWarning: Protobuf gencode version 5.28.3 is exactly one major version older than the runtime version 6.31.1 at tensorflow/core/framework/step_stats.proto. Please update the gencode to avoid compatibility violations in the next runtime release.\n",
      "  warnings.warn(\n",
      "C:\\Users\\HP\\AppData\\Local\\Packages\\PythonSoftwareFoundation.Python.3.11_qbz5n2kfra8p0\\LocalCache\\local-packages\\Python311\\site-packages\\google\\protobuf\\runtime_version.py:98: UserWarning: Protobuf gencode version 5.28.3 is exactly one major version older than the runtime version 6.31.1 at tensorflow/core/framework/allocation_description.proto. Please update the gencode to avoid compatibility violations in the next runtime release.\n",
      "  warnings.warn(\n",
      "C:\\Users\\HP\\AppData\\Local\\Packages\\PythonSoftwareFoundation.Python.3.11_qbz5n2kfra8p0\\LocalCache\\local-packages\\Python311\\site-packages\\google\\protobuf\\runtime_version.py:98: UserWarning: Protobuf gencode version 5.28.3 is exactly one major version older than the runtime version 6.31.1 at tensorflow/core/framework/tensor_description.proto. Please update the gencode to avoid compatibility violations in the next runtime release.\n",
      "  warnings.warn(\n",
      "C:\\Users\\HP\\AppData\\Local\\Packages\\PythonSoftwareFoundation.Python.3.11_qbz5n2kfra8p0\\LocalCache\\local-packages\\Python311\\site-packages\\google\\protobuf\\runtime_version.py:98: UserWarning: Protobuf gencode version 5.28.3 is exactly one major version older than the runtime version 6.31.1 at tensorflow/core/protobuf/cluster.proto. Please update the gencode to avoid compatibility violations in the next runtime release.\n",
      "  warnings.warn(\n",
      "C:\\Users\\HP\\AppData\\Local\\Packages\\PythonSoftwareFoundation.Python.3.11_qbz5n2kfra8p0\\LocalCache\\local-packages\\Python311\\site-packages\\google\\protobuf\\runtime_version.py:98: UserWarning: Protobuf gencode version 5.28.3 is exactly one major version older than the runtime version 6.31.1 at tensorflow/core/protobuf/debug.proto. Please update the gencode to avoid compatibility violations in the next runtime release.\n",
      "  warnings.warn(\n"
     ]
    }
   ],
   "source": [
    "from tensorflow.keras.preprocessing.text import Tokenizer\n",
    "from tensorflow.keras.preprocessing.sequence import pad_sequences\n",
    "\n",
    "max_words = 10000  # Use top 10k words\n",
    "max_len = 100      # Max review length (words)\n",
    "\n",
    "tokenizer = Tokenizer(num_words=max_words, oov_token=\"<OOV>\")\n",
    "tokenizer.fit_on_texts(X)\n",
    "sequences = tokenizer.texts_to_sequences(X)\n",
    "X_pad = pad_sequences(sequences, maxlen=max_len)\n"
   ]
  },
  {
   "cell_type": "markdown",
   "id": "9dc24424",
   "metadata": {},
   "source": [
    "3. Train-Test Split\n"
   ]
  },
  {
   "cell_type": "code",
   "execution_count": 3,
   "id": "456a98c6",
   "metadata": {},
   "outputs": [],
   "source": [
    "from sklearn.model_selection import train_test_split\n",
    "\n",
    "X_train, X_val, y_train, y_val = train_test_split(\n",
    "    X_pad, y_int, test_size=0.2, random_state=42, stratify=y_int\n",
    ")\n"
   ]
  },
  {
   "cell_type": "markdown",
   "id": "292aa69f",
   "metadata": {},
   "source": [
    "4. Build and Train the Deep Learning Model"
   ]
  },
  {
   "cell_type": "code",
   "execution_count": 4,
   "id": "353ef6d8",
   "metadata": {},
   "outputs": [
    {
     "name": "stderr",
     "output_type": "stream",
     "text": [
      "C:\\Users\\HP\\AppData\\Local\\Packages\\PythonSoftwareFoundation.Python.3.11_qbz5n2kfra8p0\\LocalCache\\local-packages\\Python311\\site-packages\\keras\\src\\layers\\core\\embedding.py:97: UserWarning: Argument `input_length` is deprecated. Just remove it.\n",
      "  warnings.warn(\n"
     ]
    },
    {
     "data": {
      "text/html": [
       "<pre style=\"white-space:pre;overflow-x:auto;line-height:normal;font-family:Menlo,'DejaVu Sans Mono',consolas,'Courier New',monospace\"><span style=\"font-weight: bold\">Model: \"sequential\"</span>\n",
       "</pre>\n"
      ],
      "text/plain": [
       "\u001b[1mModel: \"sequential\"\u001b[0m\n"
      ]
     },
     "metadata": {},
     "output_type": "display_data"
    },
    {
     "data": {
      "text/html": [
       "<pre style=\"white-space:pre;overflow-x:auto;line-height:normal;font-family:Menlo,'DejaVu Sans Mono',consolas,'Courier New',monospace\">┏━━━━━━━━━━━━━━━━━━━━━━━━━━━━━━━━━┳━━━━━━━━━━━━━━━━━━━━━━━━┳━━━━━━━━━━━━━━━┓\n",
       "┃<span style=\"font-weight: bold\"> Layer (type)                    </span>┃<span style=\"font-weight: bold\"> Output Shape           </span>┃<span style=\"font-weight: bold\">       Param # </span>┃\n",
       "┡━━━━━━━━━━━━━━━━━━━━━━━━━━━━━━━━━╇━━━━━━━━━━━━━━━━━━━━━━━━╇━━━━━━━━━━━━━━━┩\n",
       "│ embedding (<span style=\"color: #0087ff; text-decoration-color: #0087ff\">Embedding</span>)           │ ?                      │   <span style=\"color: #00af00; text-decoration-color: #00af00\">0</span> (unbuilt) │\n",
       "├─────────────────────────────────┼────────────────────────┼───────────────┤\n",
       "│ global_average_pooling1d        │ ?                      │             <span style=\"color: #00af00; text-decoration-color: #00af00\">0</span> │\n",
       "│ (<span style=\"color: #0087ff; text-decoration-color: #0087ff\">GlobalAveragePooling1D</span>)        │                        │               │\n",
       "├─────────────────────────────────┼────────────────────────┼───────────────┤\n",
       "│ dense (<span style=\"color: #0087ff; text-decoration-color: #0087ff\">Dense</span>)                   │ ?                      │   <span style=\"color: #00af00; text-decoration-color: #00af00\">0</span> (unbuilt) │\n",
       "├─────────────────────────────────┼────────────────────────┼───────────────┤\n",
       "│ dense_1 (<span style=\"color: #0087ff; text-decoration-color: #0087ff\">Dense</span>)                 │ ?                      │   <span style=\"color: #00af00; text-decoration-color: #00af00\">0</span> (unbuilt) │\n",
       "└─────────────────────────────────┴────────────────────────┴───────────────┘\n",
       "</pre>\n"
      ],
      "text/plain": [
       "┏━━━━━━━━━━━━━━━━━━━━━━━━━━━━━━━━━┳━━━━━━━━━━━━━━━━━━━━━━━━┳━━━━━━━━━━━━━━━┓\n",
       "┃\u001b[1m \u001b[0m\u001b[1mLayer (type)                   \u001b[0m\u001b[1m \u001b[0m┃\u001b[1m \u001b[0m\u001b[1mOutput Shape          \u001b[0m\u001b[1m \u001b[0m┃\u001b[1m \u001b[0m\u001b[1m      Param #\u001b[0m\u001b[1m \u001b[0m┃\n",
       "┡━━━━━━━━━━━━━━━━━━━━━━━━━━━━━━━━━╇━━━━━━━━━━━━━━━━━━━━━━━━╇━━━━━━━━━━━━━━━┩\n",
       "│ embedding (\u001b[38;5;33mEmbedding\u001b[0m)           │ ?                      │   \u001b[38;5;34m0\u001b[0m (unbuilt) │\n",
       "├─────────────────────────────────┼────────────────────────┼───────────────┤\n",
       "│ global_average_pooling1d        │ ?                      │             \u001b[38;5;34m0\u001b[0m │\n",
       "│ (\u001b[38;5;33mGlobalAveragePooling1D\u001b[0m)        │                        │               │\n",
       "├─────────────────────────────────┼────────────────────────┼───────────────┤\n",
       "│ dense (\u001b[38;5;33mDense\u001b[0m)                   │ ?                      │   \u001b[38;5;34m0\u001b[0m (unbuilt) │\n",
       "├─────────────────────────────────┼────────────────────────┼───────────────┤\n",
       "│ dense_1 (\u001b[38;5;33mDense\u001b[0m)                 │ ?                      │   \u001b[38;5;34m0\u001b[0m (unbuilt) │\n",
       "└─────────────────────────────────┴────────────────────────┴───────────────┘\n"
      ]
     },
     "metadata": {},
     "output_type": "display_data"
    },
    {
     "data": {
      "text/html": [
       "<pre style=\"white-space:pre;overflow-x:auto;line-height:normal;font-family:Menlo,'DejaVu Sans Mono',consolas,'Courier New',monospace\"><span style=\"font-weight: bold\"> Total params: </span><span style=\"color: #00af00; text-decoration-color: #00af00\">0</span> (0.00 B)\n",
       "</pre>\n"
      ],
      "text/plain": [
       "\u001b[1m Total params: \u001b[0m\u001b[38;5;34m0\u001b[0m (0.00 B)\n"
      ]
     },
     "metadata": {},
     "output_type": "display_data"
    },
    {
     "data": {
      "text/html": [
       "<pre style=\"white-space:pre;overflow-x:auto;line-height:normal;font-family:Menlo,'DejaVu Sans Mono',consolas,'Courier New',monospace\"><span style=\"font-weight: bold\"> Trainable params: </span><span style=\"color: #00af00; text-decoration-color: #00af00\">0</span> (0.00 B)\n",
       "</pre>\n"
      ],
      "text/plain": [
       "\u001b[1m Trainable params: \u001b[0m\u001b[38;5;34m0\u001b[0m (0.00 B)\n"
      ]
     },
     "metadata": {},
     "output_type": "display_data"
    },
    {
     "data": {
      "text/html": [
       "<pre style=\"white-space:pre;overflow-x:auto;line-height:normal;font-family:Menlo,'DejaVu Sans Mono',consolas,'Courier New',monospace\"><span style=\"font-weight: bold\"> Non-trainable params: </span><span style=\"color: #00af00; text-decoration-color: #00af00\">0</span> (0.00 B)\n",
       "</pre>\n"
      ],
      "text/plain": [
       "\u001b[1m Non-trainable params: \u001b[0m\u001b[38;5;34m0\u001b[0m (0.00 B)\n"
      ]
     },
     "metadata": {},
     "output_type": "display_data"
    },
    {
     "name": "stdout",
     "output_type": "stream",
     "text": [
      "Epoch 1/10\n",
      "\u001b[1m250/250\u001b[0m \u001b[32m━━━━━━━━━━━━━━━━━━━━\u001b[0m\u001b[37m\u001b[0m \u001b[1m1s\u001b[0m 3ms/step - accuracy: 0.2729 - loss: 1.5751 - val_accuracy: 0.3585 - val_loss: 1.4902\n",
      "Epoch 2/10\n",
      "\u001b[1m250/250\u001b[0m \u001b[32m━━━━━━━━━━━━━━━━━━━━\u001b[0m\u001b[37m\u001b[0m \u001b[1m1s\u001b[0m 3ms/step - accuracy: 0.4563 - loss: 1.3114 - val_accuracy: 0.5025 - val_loss: 1.1823\n",
      "Epoch 3/10\n",
      "\u001b[1m250/250\u001b[0m \u001b[32m━━━━━━━━━━━━━━━━━━━━\u001b[0m\u001b[37m\u001b[0m \u001b[1m1s\u001b[0m 3ms/step - accuracy: 0.5831 - loss: 1.0396 - val_accuracy: 0.5485 - val_loss: 1.0676\n",
      "Epoch 4/10\n",
      "\u001b[1m250/250\u001b[0m \u001b[32m━━━━━━━━━━━━━━━━━━━━\u001b[0m\u001b[37m\u001b[0m \u001b[1m1s\u001b[0m 2ms/step - accuracy: 0.6596 - loss: 0.8881 - val_accuracy: 0.5880 - val_loss: 1.0084\n",
      "Epoch 5/10\n",
      "\u001b[1m250/250\u001b[0m \u001b[32m━━━━━━━━━━━━━━━━━━━━\u001b[0m\u001b[37m\u001b[0m \u001b[1m1s\u001b[0m 2ms/step - accuracy: 0.7283 - loss: 0.7426 - val_accuracy: 0.6065 - val_loss: 1.0102\n",
      "Epoch 6/10\n",
      "\u001b[1m250/250\u001b[0m \u001b[32m━━━━━━━━━━━━━━━━━━━━\u001b[0m\u001b[37m\u001b[0m \u001b[1m1s\u001b[0m 2ms/step - accuracy: 0.7686 - loss: 0.6428 - val_accuracy: 0.6345 - val_loss: 0.9548\n",
      "Epoch 7/10\n",
      "\u001b[1m250/250\u001b[0m \u001b[32m━━━━━━━━━━━━━━━━━━━━\u001b[0m\u001b[37m\u001b[0m \u001b[1m1s\u001b[0m 2ms/step - accuracy: 0.8160 - loss: 0.5402 - val_accuracy: 0.6335 - val_loss: 1.0265\n",
      "Epoch 8/10\n",
      "\u001b[1m250/250\u001b[0m \u001b[32m━━━━━━━━━━━━━━━━━━━━\u001b[0m\u001b[37m\u001b[0m \u001b[1m1s\u001b[0m 3ms/step - accuracy: 0.8486 - loss: 0.4566 - val_accuracy: 0.6955 - val_loss: 0.9183\n",
      "Epoch 9/10\n",
      "\u001b[1m250/250\u001b[0m \u001b[32m━━━━━━━━━━━━━━━━━━━━\u001b[0m\u001b[37m\u001b[0m \u001b[1m1s\u001b[0m 2ms/step - accuracy: 0.8717 - loss: 0.3908 - val_accuracy: 0.6865 - val_loss: 0.9890\n",
      "Epoch 10/10\n",
      "\u001b[1m250/250\u001b[0m \u001b[32m━━━━━━━━━━━━━━━━━━━━\u001b[0m\u001b[37m\u001b[0m \u001b[1m1s\u001b[0m 2ms/step - accuracy: 0.8964 - loss: 0.3340 - val_accuracy: 0.7075 - val_loss: 0.9835\n"
     ]
    }
   ],
   "source": [
    "from tensorflow import keras\n",
    "\n",
    "model = keras.Sequential([\n",
    "    keras.layers.Embedding(input_dim=max_words, output_dim=64, input_length=max_len),\n",
    "    keras.layers.GlobalAveragePooling1D(),\n",
    "    keras.layers.Dense(64, activation=\"relu\"),\n",
    "    keras.layers.Dense(num_classes, activation=\"softmax\")\n",
    "])\n",
    "\n",
    "model.compile(\n",
    "    optimizer='adam',\n",
    "    loss='sparse_categorical_crossentropy',\n",
    "    metrics=['accuracy']\n",
    ")\n",
    "\n",
    "model.summary()\n",
    "\n",
    "# Train\n",
    "history = model.fit(\n",
    "    X_train, y_train,\n",
    "    validation_data=(X_val, y_val),\n",
    "    epochs=10,\n",
    "    batch_size=32\n",
    ")\n"
   ]
  },
  {
   "cell_type": "markdown",
   "id": "cc33df10",
   "metadata": {},
   "source": [
    "5. Save Model, Tokenizer, and Label Mapping"
   ]
  },
  {
   "cell_type": "code",
   "execution_count": 5,
   "id": "122a252d",
   "metadata": {},
   "outputs": [
    {
     "name": "stderr",
     "output_type": "stream",
     "text": [
      "WARNING:absl:You are saving your model as an HDF5 file via `model.save()` or `keras.saving.save_model(model)`. This file format is considered legacy. We recommend using instead the native Keras format, e.g. `model.save('my_model.keras')` or `keras.saving.save_model(model, 'my_model.keras')`. \n"
     ]
    }
   ],
   "source": [
    "import joblib\n",
    "import pickle\n",
    "import json\n",
    "\n",
    "# Save model\n",
    "model.save(\"deep_model_balanced.h5\")\n",
    "\n",
    "# Save tokenizer\n",
    "with open(\"tokenizer_balanced.pkl\", \"wb\") as f:\n",
    "    pickle.dump(tokenizer, f)\n",
    "\n",
    "# Convert keys to native Python int\n",
    "label_to_int_cleaned = {int(k): v for k, v in label_to_int.items()}\n",
    "\n",
    "# Save label mapping\n",
    "with open(\"label_to_int.json\", \"w\") as f:\n",
    "    json.dump(label_to_int_cleaned, f)\n",
    "\n"
   ]
  },
  {
   "cell_type": "markdown",
   "id": "384d08fa",
   "metadata": {},
   "source": [
    "6. Test Loading and Predict Once"
   ]
  },
  {
   "cell_type": "code",
   "execution_count": 6,
   "id": "8bb45889",
   "metadata": {},
   "outputs": [
    {
     "name": "stderr",
     "output_type": "stream",
     "text": [
      "WARNING:absl:Compiled the loaded model, but the compiled metrics have yet to be built. `model.compile_metrics` will be empty until you train or evaluate the model.\n"
     ]
    },
    {
     "name": "stdout",
     "output_type": "stream",
     "text": [
      "\u001b[1m1/1\u001b[0m \u001b[32m━━━━━━━━━━━━━━━━━━━━\u001b[0m\u001b[37m\u001b[0m \u001b[1m0s\u001b[0m 49ms/step\n",
      "Predicted Score: 5\n"
     ]
    }
   ],
   "source": [
    "import numpy as np\n",
    "from tensorflow import keras\n",
    "from keras.utils import pad_sequences\n",
    "\n",
    "# Load model and tokenizer\n",
    "dl_model = keras.models.load_model(\"deep_model_balanced.h5\")\n",
    "with open(\"tokenizer_balanced.pkl\", \"rb\") as f:\n",
    "    dl_tokenizer = pickle.load(f)\n",
    "with open(\"label_to_int.json\", \"r\") as f:\n",
    "    label_to_int = json.load(f)\n",
    "int_to_label = {i:v for v, i in label_to_int.items()}\n",
    "\n",
    "# Predict example\n",
    "sample_text = [\"This product was excellent!\"]\n",
    "seq = dl_tokenizer.texts_to_sequences(sample_text)\n",
    "pad = pad_sequences(seq, maxlen=max_len)\n",
    "pred = dl_model.predict(pad)\n",
    "pred_class = int(np.argmax(pred))\n",
    "print(\"Predicted Score:\", int_to_label[pred_class])\n"
   ]
  },
  {
   "cell_type": "code",
   "execution_count": 1,
   "id": "fa91da21",
   "metadata": {},
   "outputs": [
    {
     "name": "stdout",
     "output_type": "stream",
     "text": [
      "\n",
      "--- 5 example reviews for rating 1 ---\n",
      "1. This is the worst kcup I have tried to date. It is bitter, burnt and tastes just like its name. A complete waste of money! Completely unhappy with it. Will never order it again!\n",
      "2. Edit 6-27-2012<br /><br />Disregard my previous 5+ Star Rating.  This was for the previous NON \"low-cal\" version of this product that did not contain Sucralose.  This Low Cal version contains Sucralose which is what is in Splenda.  This is a synthetic man-made sugar substitute that goes through a chlorinic process.  Studies claim it's harmless to humans, but they also thought this about nutrisweet.  Google Sucralose and you be the judge.  Only the \"low cal\" products from FRS contain Sucralose.  Unfortunately all of their powder mixes are \"low cal\".  Their regular concentrate, chews, and can items do not contain Sucralose (non low-cal).  FRS should be ashamed of themselves as their tag line is \"Healthy Energy\".<br /><br />================================================================================<br /><br />I've been using FRS for over 2.5 years on subscription and love it.  It is a fantastic product that does what it says.  For the skeptics, all I can say is that the proof is in pudding.  I haven't been sick in over a year and we have elementary aged kids whereas without it I was sick every 3 months with something or another.  FRS surely helps with performance be it athletic or in my case hard core focus in developing Multimedia.  I use the orange powder mix, convenient, refreshing, and you can mix it to your liking with more or less water.<br /><br />The 3 star rating is for the most recent as of July 2010 \"Improved Dissolving Formula\" mix.  It surely dissolves better but the taste is completely different.  The original formula is refreshing and doesn't leave an aftertaste, the latest doesn't taste as good, leaves my throat dry, and has a light Orange Julius after taste.  I was so disappointed by this change that I called FRS to see if they had any old stock that I could stock up on and there was none to be had.  The new formula is here to stay because in a \"focus group\" people wanted the powder to  dissolve better.  Well I do too, but why change the flavor as well.  And I'm not sure if it's a psychological thing or not, but I don't seem to get the same energy push from this \"Improved\" formula.<br /><br />Please FRS, bring back the original formula or at least offer it as an option:  \"Original Orange\" or \"Better Dissolving Orange Julius\".<br /><br />===============================================================<br /><br />Edit as of Feb 16, 2012  I've changed my rating from 3 stars to 5 as the taste seems to be closer to the pre \"Improved Dissolving Formula\".  Every now and again though I'll get a box that is a tad tartier than usual but nothing like the first batch I got of the new formula.  Save money and time and subscribe through Amazon.com.  I originally had a subscription directly through FRS per their promotion.  Prices are much better here on Amazon and the response time can't be beat.  There were times when I would run out of FRS before my next ship date with FRS.com and just to have extra shipped to me before my next shipment usually took  7-8 business days.  Too slow.<br /><br />For the naysayers, I use 2-3 packets regularly everyday, 4-6 when the kids are home sick or if I start to feel something coming on.  Works like a charm in boosting my immune system.  This past week all my kids were home with fevers and coughs (flu) and I skated by with just a minor throat tickle.  Of course the extra FRS in combination with extra sleep and good diet does the trick.  Your results may vary.  Years ago my wife use to get sinus infections every 3 months like clockwork, year in, year out.  We started FRS (she does the Lime chews) and went in for a routine checkup upon which her Doctor said \"Wow, I haven't seen you in a while\".  Turned out she hasn't been in to the Doctor for a little over a year.  That's peace of mind for your health and pocketbook.  The minor cost of FRS far outweighs a trip to the doctor + copay + antibiotics + inconvenience + being miserable  Try it, it's truly something we can't do without.\n",
      "3. My cat liked the herbal cat nip but its messy and dusty so I bought this to try to rekindle her interest in scratch pads, now pole, etc (instead of the couch)..she didn't like it at all..I tried it on beds, toys..all and she avoided them all equally\n",
      "4. Well, scratch this one off the list! For some stupid, unfathomable reason ol' Betty Crocker decided to add SOY flour. Haven't they heard of the eight major allergen list, and that some of us react to SOY and gluten?<br /><br />Dumb, dumb, dumb. Back to Namaste for me.\n",
      "5. I can't believe I didn't check out the ingredients for this.  I never would have bought it if I would have known there was artificial sweetener in it!  First cup though, I got that weird after taste it gives and that was all she wrote.  If you don't have a problem with a chemical taste or concerns about health problems, you may like it.  Not worth it to us.\n",
      "\n",
      "--- 5 example reviews for rating 2 ---\n",
      "1. I liked the blueberry flavor of these cracker bars, but the cracker itself is somewhat bland and way too crumbly.<br /><br />Pros:<br />Good taste like a mini Pop Tart<br />Only 100 calories<br />Zero transfats<br />Convenient size<br /><br />Cons:<br />Expensive packaging that is wasteful<br />Too expensive for what you get<br />Made in Mexico...sad for Quaker<br />Too much sugar (first filling ingredient is high fructose corn syrup)<br />Too many chemicals and additives<br />Crumbling, dry cracker is messy\n",
      "2. I don't consider myself a coffee snob and I can't afford to drink Starbucks everyday. For the everyday fix, I know where to get my cheap diner coffee or I make my own at home. I was hoping this instant coffee would be a great way to get a quick cup in when all I had access to was the hot water from the water cooler at work. I ended up dumping the entire first cup. I mixed together the recommended water and powder and was hopeful when I smelled the pepperminty aroma. But the first sip was nothing more than hot water. So I added a little more.  Then a little more.  The water got sweeter (but grainer) and the scent got stronger but coffee did not. When I dumped the contents of my mug, the bottom was covered with the lumpy \"latte\" mix. If all you need is the smell of coffee and peppermint to perk you up, this will do. But if what you want is an actual cup of coffee, don't bother.\n",
      "3. I was looking for the tea served in Chinese restaurants, this is not it.  Tea is weak and I don't care for the taste.\n",
      "4. I tried this product and I have to say that I just cannot tolerate the taste.  At least for me, it tastes awful. I bought this based on the overwhelmingly positive reviews.  I have been using Truvia and Truvia tastes much more like sugar than this product.  I don't know what this tastes like.  It is unlike anything I've ever tasted - and it sure doesn't taste like sugar to me. I had to pour out a fresh pitcher of green tea because it tasted so bad.  I made another pitcher of tea with Truvia and it was much better tasting. I usually mix some real sugar with Stevia.  But this last pitcher of tea was sweetened only by Truvia (Stevia) and it was pretty good tasting. It certainly isn't an identical taste to sugar, but close enough after you adjust to the taste.  When I use Truvia with coffee and cream, I can't tell the difference with real sugar.  And that is probably because the French Vanilla cream overwhelms the overall taste.<br /><br />I know my review is counter to the other reviews, but it is just my experience and opinion.  Everybody has a different sense of taste. All food has a rather intense taste to me. About 25% of the population is a super taster. We have many more taste buds on our tongue. That describes me. So you may have a different experience than I did.\n",
      "5. My cat will only eat this if there is nothing else. However my dog likes it. The dog is always eating the cats left overs.\n",
      "\n",
      "--- 5 example reviews for rating 3 ---\n",
      "1. Like many others, I don't actually have a pod coffee machine. I use the <a href=\"http://www.amazon.com/gp/product/B0014CVEH6\">Melitta Ready Set Joe Single Cup Coffee Brewer</a>. The first cup of coffee I made with this was very weak. By dropping the bag directly into the coffee and swishing it around tea bag style, I was able to get a stronger flavor. For my second cup, I just cut open the pod, dumped in the grounds and only let it drip until the color started to lighten. That made for a good cup of coffee.<br /><br />The Marley One Love coffee is an Ethipian Yirgacheffe, which is supposed to be a pretty reputable bean, and it delivers a good coffee. Properly prepared, it is full bodied, with only a slight hint of bitterness - much better than some other highly recommended coffees that I've tried. And the amount of coffee in the packet is just right for a strong standard cup of coffee if you prepare it right - only dripping through until the drip starts to get light. However, it sounds like some people using standard pod coffee makers are getting week coffee and my experience with my first cup indicates the water goes through the pod casing too fast, not giving the grounds a chance to get truly wet so that the water drips through them too quickly and doesn't carry enough of the flavor. So I would say that there's good coffee inside but maybe the delivery process needs work.<br /><br />If you're using a proper pod coffee maker, you're on your own. But if you're looking for something better than the office brew, the contents of the 67 cent pouch are great for using in other single cup setups. 4 stars for the coffee, but 1 star off since it sounds like my roundabout way of making a cup gets better results than the easy way the pod is supposed to provide for.\n",
      "2. I purchased 3 boxes of the mini Moon Pies as something to put in the favor bags for my 3 year old Rocket Ship birthday theme.  I received the boxes on 6/6/12 and the expiration date on two of the boxes was 6/13/12.  Was disappointed that they would send something so close to the expiration date.  The third box has a Sept 2012 expiration date, which is acceptable.\n",
      "3. This bottle stopper cannot hold air tight for long. I vaccum air out and it looks tight for couple hours then the air come in. It cannot help to keep the wine good b/c the air come in make the wine taste worse.\n",
      "4. These were not flavorful enough for my taste. It seems that all the seasoning falls off the chips and sinks to the bottom of the bag. Too bad, because I really liked the idea of a healthier potato chip. I would not buy these again.\n",
      "5. I like bold coffee. This is a little bolder than I like. But for those who like it strong, they will enjoy this.\n",
      "\n",
      "--- 5 example reviews for rating 4 ---\n",
      "1. I was a huge fan of the Sunshine Raisin Biscuits which Keebler no longer makes. These biscuits feature a thin layer of raisin paste in a thin layer of cookie. Garibaldi now appears to be the only maker of raisin biscuits. These are not as good as Keebler's Sunshines, but if you are a raisin biscuit fan they are fine. They are a little drier and the biscuit is a little less sweet and there is a little less raisin paste. However, they are still a great way to satisfy your raisin biscuit craving. They are especially good when accompanied by tea--I like <a href=\"http://www.amazon.com/gp/product/B000F4VS5W\">Kalahari Red Tea, Highlands Honey, Tea Bag, 20-Count Boxes (Pack of 6)</a> with them.\n",
      "2. This was the perfect size and gift for a go-away.  Although the plate is permanently mounted, \"Thank You\" we were able to put a \"Happy Travels\" card in front of it.\n",
      "3. These are light, crunchy chip-type snacks that are high in protein and low in fat and carbs, so ideal for dieting. They come in premeasured packages that make portion control easy. They're not quite cheesy enough but are a satisfying snack or mini-meal.\n",
      "4. Recently I tried Illy's Cappucino product and I loved it.  I decided ti give it  a try with Caffe, Italian Espresso style coffee drink.  Drink comes is a small 6.8 oz can that is easy to pack and carry.  I drank my coffee cold.  One cannot go wrong with drinking it on room temperature either.  Can does not require shaking; drink contains 50 calories  and no fat.  This drink is stronger than cappucino and a little bit bitter.  There is disticnt flavor and strenght in each drink.  I liked both, but my preference in the morning is coffee with some milk in it.  For that reason, I would recommend Caffe as afternon \"pick me up\" type of drink.<br /><br />This product is made in Italy and it is distributed in USA by Coca-Cola company.  This fine Arabica bean coffee will give you Italian espresso experience.  There is nothing better than an old world coffee drink (in my opinion).\n",
      "5. Kids enjoy eating these. They have a bit too much sugar for my liking but we'll continue to buy them.\n",
      "\n",
      "--- 5 example reviews for rating 5 ---\n",
      "1. The flavors are really great! They taste delicious. As for the laxative effect, well...it saves on buying any laxatives! Two for one deal!\n",
      "2. BOUGHT THIS PRODUCT AS THANK YOU FOR NURSING CARE<br />FACILITY,. DID NOT HEAR FROM THEM BUT KNOW IT WAS<br />APPRECIATED.\n",
      "3. <a href=\"http://www.amazon.com/gp/product/B001EO5R0Y\">Stash Premium Double Bergamot Earl Grey Tea, Loose Leaf, 3.5-Ounce Pouches (Pack of 3)</a><br /><br />This is a very nice double Bergamot, if you don't like Bergamot stay away, if you don't like Earl Grey stay away<br />It's heavy on the Bergamot people! That's why they call it DOUBLE BERAMONT EARL GREY.<br /><br />The Upton Tea loose Extra Bergamot is a good alternative also.  But for the price this is a good one.  Loose, or in bags it's a nice tea.\n",
      "4. Everyone loves Life cereal!!  This is a great price, better than any of the sales I have ever seen!! Please note, this is the smaller size box!! Even still, great value.\n",
      "5. I really love these snacks.  They are low in calories and fat while being high in protein, which is important to me because I am a vegetarian.\n"
     ]
    }
   ],
   "source": [
    "import pandas as pd\n",
    "\n",
    "# Load your lemmatized balanced data\n",
    "df = pd.read_csv(\"data/cleaned_dataset/balanced_data.csv\")\n",
    "\n",
    "for rating in sorted(df['Score'].unique()):\n",
    "    print(f\"\\n--- 5 example reviews for rating {rating} ---\")\n",
    "    sample_reviews = df[df['Score'] == rating]['Text'].sample(5, random_state=42)\n",
    "    for i, review in enumerate(sample_reviews, start=1):\n",
    "        print(f\"{i}. {review}\")"
   ]
  },
  {
   "cell_type": "code",
   "execution_count": 3,
   "id": "983fc3e8",
   "metadata": {},
   "outputs": [
    {
     "name": "stdout",
     "output_type": "stream",
     "text": [
      "Score\n",
      "1    2000\n",
      "2    2000\n",
      "3    2000\n",
      "4    2000\n",
      "5    2000\n",
      "Name: count, dtype: int64\n"
     ]
    }
   ],
   "source": [
    "import pandas as pd\n",
    "print(df['Score'].value_counts())"
   ]
  }
 ],
 "metadata": {
  "kernelspec": {
   "display_name": "Python 3",
   "language": "python",
   "name": "python3"
  },
  "language_info": {
   "codemirror_mode": {
    "name": "ipython",
    "version": 3
   },
   "file_extension": ".py",
   "mimetype": "text/x-python",
   "name": "python",
   "nbconvert_exporter": "python",
   "pygments_lexer": "ipython3",
   "version": "3.11.9"
  }
 },
 "nbformat": 4,
 "nbformat_minor": 5
}
