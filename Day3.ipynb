{
 "cells": [
  {
   "cell_type": "code",
   "execution_count": 4,
   "id": "809d8e25-7429-4aa4-8322-3c83bf42f409",
   "metadata": {},
   "outputs": [
    {
     "data": {
      "text/plain": [
       "['.ipynb_checkpoints',\n",
       " 'Reviews-1.csv',\n",
       " 'Reviews-2.csv',\n",
       " 'Reviews-3.csv',\n",
       " 'Reviews-4.csv']"
      ]
     },
     "execution_count": 4,
     "metadata": {},
     "output_type": "execute_result"
    }
   ],
   "source": [
    "import os\n",
    "os.listdir('./data/Day3 Data/')\n"
   ]
  },
  {
   "cell_type": "code",
   "execution_count": null,
   "id": "eed6dcc5-9209-4271-afc2-59b50cf53e89",
   "metadata": {},
   "outputs": [],
   "source": [
    "#Loading Data \n",
    "import pandas as pd\n",
    "import glob     #glob module for finding files and directories with matching names \n",
    "\n",
    "files = glob.glob('./data/Day3 Data/Reviews-*.csv')   #returns a list of file paths that match\n",
    "df_list = [pd.read_csv(f) for f in files]          #creating list of dataframes\n",
    "reviews_df = pd.concat(df_list, ignore_index=True)  #combines all dataframes in the list to one dataframe and saves as reviews\n"
   ]
  },
  {
   "cell_type": "code",
   "execution_count": 6,
   "id": "83b4071c-25b2-4583-9bd4-a36aac421760",
   "metadata": {},
   "outputs": [
    {
     "name": "stdout",
     "output_type": "stream",
     "text": [
      "<class 'pandas.core.frame.DataFrame'>\n",
      "RangeIndex: 568454 entries, 0 to 568453\n",
      "Data columns (total 10 columns):\n",
      " #   Column                  Non-Null Count   Dtype \n",
      "---  ------                  --------------   ----- \n",
      " 0   Id                      568454 non-null  int64 \n",
      " 1   ProductId               568454 non-null  object\n",
      " 2   UserId                  568454 non-null  object\n",
      " 3   ProfileName             568428 non-null  object\n",
      " 4   HelpfulnessNumerator    568454 non-null  int64 \n",
      " 5   HelpfulnessDenominator  568454 non-null  int64 \n",
      " 6   Score                   568454 non-null  int64 \n",
      " 7   Time                    568454 non-null  int64 \n",
      " 8   Summary                 568427 non-null  object\n",
      " 9   Text                    568454 non-null  object\n",
      "dtypes: int64(5), object(5)\n",
      "memory usage: 43.4+ MB\n"
     ]
    },
    {
     "data": {
      "text/html": [
       "<div>\n",
       "<style scoped>\n",
       "    .dataframe tbody tr th:only-of-type {\n",
       "        vertical-align: middle;\n",
       "    }\n",
       "\n",
       "    .dataframe tbody tr th {\n",
       "        vertical-align: top;\n",
       "    }\n",
       "\n",
       "    .dataframe thead th {\n",
       "        text-align: right;\n",
       "    }\n",
       "</style>\n",
       "<table border=\"1\" class=\"dataframe\">\n",
       "  <thead>\n",
       "    <tr style=\"text-align: right;\">\n",
       "      <th></th>\n",
       "      <th>Id</th>\n",
       "      <th>HelpfulnessNumerator</th>\n",
       "      <th>HelpfulnessDenominator</th>\n",
       "      <th>Score</th>\n",
       "      <th>Time</th>\n",
       "    </tr>\n",
       "  </thead>\n",
       "  <tbody>\n",
       "    <tr>\n",
       "      <th>count</th>\n",
       "      <td>568454.000000</td>\n",
       "      <td>568454.000000</td>\n",
       "      <td>568454.00000</td>\n",
       "      <td>568454.000000</td>\n",
       "      <td>5.684540e+05</td>\n",
       "    </tr>\n",
       "    <tr>\n",
       "      <th>mean</th>\n",
       "      <td>284227.500000</td>\n",
       "      <td>1.743817</td>\n",
       "      <td>2.22881</td>\n",
       "      <td>4.183199</td>\n",
       "      <td>1.296257e+09</td>\n",
       "    </tr>\n",
       "    <tr>\n",
       "      <th>std</th>\n",
       "      <td>164098.679298</td>\n",
       "      <td>7.636513</td>\n",
       "      <td>8.28974</td>\n",
       "      <td>1.310436</td>\n",
       "      <td>4.804331e+07</td>\n",
       "    </tr>\n",
       "    <tr>\n",
       "      <th>min</th>\n",
       "      <td>1.000000</td>\n",
       "      <td>0.000000</td>\n",
       "      <td>0.00000</td>\n",
       "      <td>1.000000</td>\n",
       "      <td>9.393408e+08</td>\n",
       "    </tr>\n",
       "    <tr>\n",
       "      <th>25%</th>\n",
       "      <td>142114.250000</td>\n",
       "      <td>0.000000</td>\n",
       "      <td>0.00000</td>\n",
       "      <td>4.000000</td>\n",
       "      <td>1.271290e+09</td>\n",
       "    </tr>\n",
       "    <tr>\n",
       "      <th>50%</th>\n",
       "      <td>284227.500000</td>\n",
       "      <td>0.000000</td>\n",
       "      <td>1.00000</td>\n",
       "      <td>5.000000</td>\n",
       "      <td>1.311120e+09</td>\n",
       "    </tr>\n",
       "    <tr>\n",
       "      <th>75%</th>\n",
       "      <td>426340.750000</td>\n",
       "      <td>2.000000</td>\n",
       "      <td>2.00000</td>\n",
       "      <td>5.000000</td>\n",
       "      <td>1.332720e+09</td>\n",
       "    </tr>\n",
       "    <tr>\n",
       "      <th>max</th>\n",
       "      <td>568454.000000</td>\n",
       "      <td>866.000000</td>\n",
       "      <td>923.00000</td>\n",
       "      <td>5.000000</td>\n",
       "      <td>1.351210e+09</td>\n",
       "    </tr>\n",
       "  </tbody>\n",
       "</table>\n",
       "</div>"
      ],
      "text/plain": [
       "                  Id  HelpfulnessNumerator  HelpfulnessDenominator  \\\n",
       "count  568454.000000         568454.000000            568454.00000   \n",
       "mean   284227.500000              1.743817                 2.22881   \n",
       "std    164098.679298              7.636513                 8.28974   \n",
       "min         1.000000              0.000000                 0.00000   \n",
       "25%    142114.250000              0.000000                 0.00000   \n",
       "50%    284227.500000              0.000000                 1.00000   \n",
       "75%    426340.750000              2.000000                 2.00000   \n",
       "max    568454.000000            866.000000               923.00000   \n",
       "\n",
       "               Score          Time  \n",
       "count  568454.000000  5.684540e+05  \n",
       "mean        4.183199  1.296257e+09  \n",
       "std         1.310436  4.804331e+07  \n",
       "min         1.000000  9.393408e+08  \n",
       "25%         4.000000  1.271290e+09  \n",
       "50%         5.000000  1.311120e+09  \n",
       "75%         5.000000  1.332720e+09  \n",
       "max         5.000000  1.351210e+09  "
      ]
     },
     "execution_count": 6,
     "metadata": {},
     "output_type": "execute_result"
    }
   ],
   "source": [
    "#Data Inspection-Examining Merged Data Frames\n",
    "reviews_df.head()\n",
    "reviews_df.info()\n",
    "reviews_df.describe()\n"
   ]
  },
  {
   "cell_type": "code",
   "execution_count": 7,
   "id": "ecc47ecc-e13f-428a-8fbc-4d87764983c9",
   "metadata": {},
   "outputs": [
    {
     "data": {
      "text/plain": [
       "Id                         0\n",
       "ProductId                  0\n",
       "UserId                     0\n",
       "ProfileName               26\n",
       "HelpfulnessNumerator       0\n",
       "HelpfulnessDenominator     0\n",
       "Score                      0\n",
       "Time                       0\n",
       "Summary                   27\n",
       "Text                       0\n",
       "dtype: int64"
      ]
     },
     "execution_count": 7,
     "metadata": {},
     "output_type": "execute_result"
    }
   ],
   "source": [
    "#Data Inspection-Missing Value Check\n",
    "reviews_df.isnull().sum()\n"
   ]
  },
  {
   "cell_type": "code",
   "execution_count": 11,
   "id": "62592f7c-1c58-422e-ada0-3431b02fe922",
   "metadata": {},
   "outputs": [
    {
     "name": "stdout",
     "output_type": "stream",
     "text": [
      "Index(['Id', 'ProductId', 'UserId', 'ProfileName', 'HelpfulnessNumerator',\n",
      "       'HelpfulnessDenominator', 'Score', 'Time', 'Summary', 'Text'],\n",
      "      dtype='object')\n"
     ]
    }
   ],
   "source": [
    "print(reviews_df.columns)"
   ]
  },
  {
   "cell_type": "code",
   "execution_count": 17,
   "id": "d2614dd2-4027-4f95-9ac1-4aad54cda817",
   "metadata": {},
   "outputs": [],
   "source": [
    "reviews_df.drop_duplicates(inplace=True) #Duplicates Handling\n"
   ]
  },
  {
   "cell_type": "code",
   "execution_count": 19,
   "id": "dcfc1028-db90-4b93-b306-d3250a6594c8",
   "metadata": {},
   "outputs": [],
   "source": [
    "#View and Inspect Data\n",
    "import pandas as pd\n",
    "\n",
    "df = pd.read_csv('./data/Day3 Data/Reviews-1.csv')  \n",
    "df = pd.read_csv('./data/Day3 Data/Reviews-2.csv') \n",
    "df = pd.read_csv('./data/Day3 Data/Reviews-3.csv') \n",
    "df = pd.read_csv('./data/Day3 Data/Reviews-4.csv') "
   ]
  },
  {
   "cell_type": "code",
   "execution_count": 20,
   "id": "e7c5ba4c-a96e-43e0-b869-ca3413442cc4",
   "metadata": {},
   "outputs": [
    {
     "name": "stdout",
     "output_type": "stream",
     "text": [
      "       Id   ProductId          UserId                       ProfileName  \\\n",
      "0  300000  B0007XAUXC  A1TDZMXV5P6AJB                 Phyllis E. Tustin   \n",
      "1  300001  B0007XAUXC  A2IVZ6LY3YHV1N  Kimberly J. Walsh \"Military Mom\"   \n",
      "2  300002  B0007XAUXC  A1KBRU7S92I6FC                             tammy   \n",
      "3  300003  B0007XAUXC  A1VTCSCH8FFC76                     Parker Hallam   \n",
      "4  300004  B000V1ECO8  A22O5OB5CZ23HV                     Savvy Shopper   \n",
      "\n",
      "   HelpfulnessNumerator  HelpfulnessDenominator  Score        Time  \\\n",
      "0                     7                       7      4  1272758400   \n",
      "1                     0                       0      5  1345680000   \n",
      "2                     0                       0      5  1336608000   \n",
      "3                     0                       0      5  1334188800   \n",
      "4                     1                       1      5  1326499200   \n",
      "\n",
      "                              Summary  \\\n",
      "0                              review   \n",
      "1                   daughter loved it   \n",
      "2                          Very happy   \n",
      "3                    Best Easter gift   \n",
      "4  Why Settle For Less Than The Best?   \n",
      "\n",
      "                                                                                                                                                                                                                                                                                                                                                                                                                                                                                                                                                                                                                                                                                                                                                                                                                                                                                                                                                                                                                                                 Text  \n",
      "0                                                                                                                                                                                                                                                                                                                                                                                                                                                                                                                                                                                                                                                                                                                                                                                                                                                                                                                     our grand kids were thrilled and excited. they loved everything about the product and claimed it was the best easter gift ever.  \n",
      "1                                                                                                                                                                                                                                                                                                                                                                                                                                                                                                                                                                                                                                                                                                                                                                                                                                                                                                                          I sent this to my daughter for Easter. She has two kids and they really had fun opening it to find all the goodies inside.  \n",
      "2                                                                                                                                                                                                                                                                                                                                                                                                                                                                                                                                                                                                                                                                                                                                                                                                                                                                 I sent this as a gift to my daughter away at college.  She loved it and thought it was adorable.  Enjoyed the treats as well.  I would use this type of item to surprise her again!  \n",
      "3                                                                                                                                                                                                                                                                                                                                                                                                                                                                                 This Easter I found a great gift item for my neighbor who is the mother of a six year old. I wanted something that would delight both mother and daughter and came across the Somebunny special Easter bunny rabbit gift tower. The box contained chocolate chip cookies, pretzels, rabbit jelly belly beans that would be a true family treat. My neighbor appreciated my gifts and told me that she used the boxes to store color pencils and stationery items of her little one. I was happy that I was able to find an Easter gift that they truly appreciated.  \n",
      "4  In the past, I had tried to prepare other brands of polenta (dry mix or the 'tube'), but always ended up with a lumpy, sour-tasting porridge, no matter how much water I used or how diligently I stirred the pot while cooking. I resigned myself to the fact that I was unable to master the proper polenta-cooking-technique and had to be satisfied with ordering it as a side dish in pricey restaurants. About 15 years ago, I happened to be shopping in my local gourmet food shoppe and spotted the now-familiar yellow box and decided \"what the heck, I'll give Valsuga Polenta a try\". From that day forward, my family and I became 'home-made-polenta-converts'...Valsuga consistently cooks up quickly, never lumps and always tastes sweet and fresh as a good polenta should. Sadly, my local supply dried up when the gourmet shoppe closed, but I was relieved to discover this product was offered on Amazon. The price is right, the product is fabulous: whats not to like? I'll keep buying my Valsuga Polenta from Amazon!  \n"
     ]
    }
   ],
   "source": [
    "print(df.head())\n"
   ]
  },
  {
   "cell_type": "code",
   "execution_count": 21,
   "id": "c2c32805-1187-4961-984a-eb6736416ca8",
   "metadata": {},
   "outputs": [
    {
     "name": "stdout",
     "output_type": "stream",
     "text": [
      "Index(['Id', 'ProductId', 'UserId', 'ProfileName', 'HelpfulnessNumerator',\n",
      "       'HelpfulnessDenominator', 'Score', 'Time', 'Summary', 'Text'],\n",
      "      dtype='object')\n",
      "<class 'pandas.core.frame.DataFrame'>\n",
      "RangeIndex: 268455 entries, 0 to 268454\n",
      "Data columns (total 10 columns):\n",
      " #   Column                  Non-Null Count   Dtype \n",
      "---  ------                  --------------   ----- \n",
      " 0   Id                      268455 non-null  int64 \n",
      " 1   ProductId               268455 non-null  object\n",
      " 2   UserId                  268455 non-null  object\n",
      " 3   ProfileName             268444 non-null  object\n",
      " 4   HelpfulnessNumerator    268455 non-null  int64 \n",
      " 5   HelpfulnessDenominator  268455 non-null  int64 \n",
      " 6   Score                   268455 non-null  int64 \n",
      " 7   Time                    268455 non-null  int64 \n",
      " 8   Summary                 268440 non-null  object\n",
      " 9   Text                    268455 non-null  object\n",
      "dtypes: int64(5), object(5)\n",
      "memory usage: 20.5+ MB\n",
      "None\n"
     ]
    }
   ],
   "source": [
    "print(df.columns)\n",
    "print(df.info())\n"
   ]
  },
  {
   "cell_type": "code",
   "execution_count": 22,
   "id": "679f357d-8b2e-4511-b1fc-1efc9e2ec757",
   "metadata": {},
   "outputs": [
    {
     "name": "stdout",
     "output_type": "stream",
     "text": [
      "                  Id  HelpfulnessNumerator  HelpfulnessDenominator  \\\n",
      "count  268455.000000         268455.000000           268455.000000   \n",
      "mean   434227.000000              1.727347                2.206962   \n",
      "std     77496.427595              7.182787                7.845783   \n",
      "min    300000.000000              0.000000                0.000000   \n",
      "25%    367113.500000              0.000000                0.000000   \n",
      "50%    434227.000000              0.000000                1.000000   \n",
      "75%    501340.500000              2.000000                2.000000   \n",
      "max    568454.000000            808.000000              815.000000   \n",
      "\n",
      "               Score          Time  \n",
      "count  268455.000000  2.684550e+05  \n",
      "mean        4.197460  1.296574e+09  \n",
      "std         1.305616  4.825528e+07  \n",
      "min         1.000000  9.440928e+08  \n",
      "25%         4.000000  1.272240e+09  \n",
      "50%         5.000000  1.311638e+09  \n",
      "75%         5.000000  1.332893e+09  \n",
      "max         5.000000  1.351210e+09  \n"
     ]
    }
   ],
   "source": [
    "print(df.describe())\n"
   ]
  },
  {
   "cell_type": "code",
   "execution_count": 23,
   "id": "d0151a4e-b4e6-45ba-9a6f-e17b1366ba95",
   "metadata": {},
   "outputs": [
    {
     "name": "stdout",
     "output_type": "stream",
     "text": [
      "Id                         0\n",
      "ProductId                  0\n",
      "UserId                     0\n",
      "ProfileName               11\n",
      "HelpfulnessNumerator       0\n",
      "HelpfulnessDenominator     0\n",
      "Score                      0\n",
      "Time                       0\n",
      "Summary                   15\n",
      "Text                       0\n",
      "dtype: int64\n"
     ]
    }
   ],
   "source": [
    "print(df.isnull().sum())    #Display Null items\n"
   ]
  },
  {
   "cell_type": "code",
   "execution_count": 24,
   "id": "b887c2d9-4445-4280-8e71-bf388c4f272c",
   "metadata": {},
   "outputs": [],
   "source": [
    "df = df.dropna(subset=['ProfileName', 'Summary'])  #Dataframe Cleaning\n"
   ]
  },
  {
   "cell_type": "code",
   "execution_count": 25,
   "id": "9c86535d-3f9e-484a-90d7-bac42e97ef9a",
   "metadata": {},
   "outputs": [
    {
     "name": "stdout",
     "output_type": "stream",
     "text": [
      "Id                        0\n",
      "ProductId                 0\n",
      "UserId                    0\n",
      "ProfileName               0\n",
      "HelpfulnessNumerator      0\n",
      "HelpfulnessDenominator    0\n",
      "Score                     0\n",
      "Time                      0\n",
      "Summary                   0\n",
      "Text                      0\n",
      "dtype: int64\n"
     ]
    }
   ],
   "source": [
    "print(df.isnull().sum()) #Printing Cleaned Data\n"
   ]
  },
  {
   "cell_type": "code",
   "execution_count": 26,
   "id": "a0c19c91-bf76-4b0e-a9e3-1328927977c7",
   "metadata": {},
   "outputs": [
    {
     "name": "stdout",
     "output_type": "stream",
     "text": [
      "0\n"
     ]
    }
   ],
   "source": [
    "print(df.duplicated().sum()) #finding Duplicates\n"
   ]
  },
  {
   "cell_type": "code",
   "execution_count": 27,
   "id": "c6ca904c-8e3a-4d8f-bac1-1862f50afda0",
   "metadata": {},
   "outputs": [],
   "source": [
    "df = df.drop_duplicates() # removing Duplicates\n"
   ]
  },
  {
   "cell_type": "code",
   "execution_count": 28,
   "id": "46df7043-5c4e-4cca-8ff2-6712dd66c1ec",
   "metadata": {},
   "outputs": [
    {
     "name": "stdout",
     "output_type": "stream",
     "text": [
      "Index(['Id', 'ProductId', 'UserId', 'ProfileName', 'HelpfulnessNumerator',\n",
      "       'HelpfulnessDenominator', 'Score', 'Time', 'Summary', 'Text'],\n",
      "      dtype='object')\n"
     ]
    }
   ],
   "source": [
    "print(df.columns)     #Print Columns"
   ]
  },
  {
   "cell_type": "code",
   "execution_count": 29,
   "id": "b60a32d8-0723-4bd1-b78a-cf38d7e3bb20",
   "metadata": {},
   "outputs": [],
   "source": [
    "df = df.drop(['HelpfulnessNumerator', 'HelpfulnessDenominator' , 'Time' , ], axis=1)  # Deleting Unwanted Columns\n"
   ]
  },
  {
   "cell_type": "code",
   "execution_count": 30,
   "id": "0f9fee03-2dd1-44c1-a766-e4a4a0dd20a0",
   "metadata": {},
   "outputs": [
    {
     "name": "stdout",
     "output_type": "stream",
     "text": [
      "Index(['Id', 'ProductId', 'UserId', 'ProfileName', 'Score', 'Summary', 'Text'], dtype='object')\n"
     ]
    }
   ],
   "source": [
    "print(df.columns) # Displaying deleted columns"
   ]
  },
  {
   "cell_type": "code",
   "execution_count": 31,
   "id": "bb80a48e-0857-44d9-8e47-b70886486e38",
   "metadata": {},
   "outputs": [],
   "source": [
    "#Saving Cleaned Dataset\n",
    "import os\n",
    "os.makedirs('./data/cleaned_dataset', exist_ok=True)\n"
   ]
  },
  {
   "cell_type": "code",
   "execution_count": 32,
   "id": "56406781-bacf-48ea-bf5a-c9c45af5a981",
   "metadata": {},
   "outputs": [],
   "source": [
    "#Saving Cleaned Dataset\n",
    "df.to_csv('./data/cleaned_dataset/cleaned_data.csv', index=False) \n"
   ]
  },
  {
   "cell_type": "code",
   "execution_count": null,
   "id": "3b1e87ad-e708-4d1b-ac49-6e1d91a4b1f0",
   "metadata": {},
   "outputs": [],
   "source": []
  }
 ],
 "metadata": {
  "kernelspec": {
   "display_name": "Python [conda env:base] *",
   "language": "python",
   "name": "conda-base-py"
  },
  "language_info": {
   "codemirror_mode": {
    "name": "ipython",
    "version": 3
   },
   "file_extension": ".py",
   "mimetype": "text/x-python",
   "name": "python",
   "nbconvert_exporter": "python",
   "pygments_lexer": "ipython3",
   "version": "3.13.5"
  }
 },
 "nbformat": 4,
 "nbformat_minor": 5
}
