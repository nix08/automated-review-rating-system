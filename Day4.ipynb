{
 "cells": [
  {
   "cell_type": "code",
   "execution_count": 2,
   "id": "7469e6f0-6252-4f50-bb55-3b8fae4515c0",
   "metadata": {},
   "outputs": [
    {
     "name": "stdout",
     "output_type": "stream",
     "text": [
      "   Id   ProductId          UserId                      ProfileName  \\\n",
      "0   1  B001E4KFG0  A3SGXH7AUHU8GW                       delmartian   \n",
      "1   2  B00813GRG4  A1D87F6ZCVE5NK                           dll pa   \n",
      "2   3  B000LQOCH0   ABXLMWJIXXAIN  Natalia Corres \"Natalia Corres\"   \n",
      "3   4  B000UA0QIQ  A395BORC6FGVXV                             Karl   \n",
      "4   5  B006K2ZZ7K  A1UQRSCLF8GW1T    Michael D. Bigham \"M. Wassir\"   \n",
      "\n",
      "   HelpfulnessNumerator  HelpfulnessDenominator  Score        Time  \\\n",
      "0                     1                       1      5  1303862400   \n",
      "1                     0                       0      1  1346976000   \n",
      "2                     1                       1      4  1219017600   \n",
      "3                     3                       3      2  1307923200   \n",
      "4                     0                       0      5  1350777600   \n",
      "\n",
      "                 Summary                                               Text  \n",
      "0  Good Quality Dog Food  I have bought several of the Vitality canned d...  \n",
      "1      Not as Advertised  Product arrived labeled as Jumbo Salted Peanut...  \n",
      "2  \"Delight\" says it all  This is a confection that has been around a fe...  \n",
      "3         Cough Medicine  If you are looking for the secret ingredient i...  \n",
      "4            Great taffy  Great taffy at a great price.  There was a wid...  \n"
     ]
    }
   ],
   "source": [
    "import pandas as pd\n",
    "df = pd.read_csv('data/Day3 Data/Reviews-1.csv')\n",
    "print(df.head())\n"
   ]
  },
  {
   "cell_type": "code",
   "execution_count": 6,
   "id": "e2b7801b-e6bc-4874-a7eb-6be24075ffab",
   "metadata": {},
   "outputs": [
    {
     "name": "stdout",
     "output_type": "stream",
     "text": [
      "Index(['Id', 'ProductId', 'UserId', 'ProfileName', 'HelpfulnessNumerator',\n",
      "       'HelpfulnessDenominator', 'Score', 'Time', 'Summary', 'Text'],\n",
      "      dtype='object')\n"
     ]
    }
   ],
   "source": [
    "import pandas as pd\n",
    "df = pd.read_csv('data/Day3 Data/Reviews-1.csv')\n",
    "\n",
    "# Get the column names as a Pandas Index object\n",
    "column_names = df.columns\n",
    "print(column_names)\n"
   ]
  },
  {
   "cell_type": "code",
   "execution_count": 10,
   "id": "7d2e6972-1029-4d97-a0ab-d254ff5e7a7f",
   "metadata": {},
   "outputs": [
    {
     "name": "stdout",
     "output_type": "stream",
     "text": [
      "Score\n",
      "5    49811\n",
      "4    11797\n",
      "1     7482\n",
      "3     6481\n",
      "2     4428\n",
      "Name: count, dtype: int64\n",
      "Id                        0\n",
      "ProductId                 0\n",
      "UserId                    0\n",
      "ProfileName               6\n",
      "HelpfulnessNumerator      0\n",
      "HelpfulnessDenominator    0\n",
      "Score                     0\n",
      "Time                      0\n",
      "Summary                   2\n",
      "Text                      0\n",
      "dtype: int64\n"
     ]
    }
   ],
   "source": [
    "#Checking Quality\n",
    "\n",
    "print(df['Score'].value_counts())\n",
    "print(df.isnull().sum())"
   ]
  },
  {
   "cell_type": "code",
   "execution_count": 11,
   "id": "2bd5aad4-b9f4-4124-944d-dc9eb083a8ac",
   "metadata": {},
   "outputs": [],
   "source": [
    "df = pd.read_csv('data/Day3 Data/Reviews-1.csv')\n",
    "df = pd.read_csv('data/Day3 Data/Reviews-2.csv')\n",
    "df = pd.read_csv('data/Day3 Data/Reviews-3.csv')\n",
    "df = pd.read_csv('data/Day3 Data/Reviews-4.csv')"
   ]
  },
  {
   "cell_type": "code",
   "execution_count": 12,
   "id": "83fa54d5-f8d5-4247-abb8-e6778de20d08",
   "metadata": {},
   "outputs": [
    {
     "name": "stdout",
     "output_type": "stream",
     "text": [
      "Score\n",
      "5    173376\n",
      "4     37399\n",
      "1     24483\n",
      "3     19476\n",
      "2     13721\n",
      "Name: count, dtype: int64\n",
      "Id                         0\n",
      "ProductId                  0\n",
      "UserId                     0\n",
      "ProfileName               11\n",
      "HelpfulnessNumerator       0\n",
      "HelpfulnessDenominator     0\n",
      "Score                      0\n",
      "Time                       0\n",
      "Summary                   15\n",
      "Text                       0\n",
      "dtype: int64\n"
     ]
    }
   ],
   "source": [
    "print(df['Score'].value_counts())\n",
    "print(df.isnull().sum())"
   ]
  },
  {
   "cell_type": "code",
   "execution_count": 13,
   "id": "a80d5bc1-2194-4579-88ea-ee1098921e2c",
   "metadata": {},
   "outputs": [],
   "source": [
    "df = df.dropna(subset=['Text', 'Score'])\n"
   ]
  },
  {
   "cell_type": "code",
   "execution_count": 14,
   "id": "58a555d5-6889-40fa-8b11-1a7ef1327ff8",
   "metadata": {},
   "outputs": [],
   "source": [
    "df = df.drop_duplicates()\n"
   ]
  },
  {
   "cell_type": "code",
   "execution_count": 15,
   "id": "0a624198-ee83-4c0e-a6a6-5d358a68dc97",
   "metadata": {},
   "outputs": [
    {
     "name": "stdout",
     "output_type": "stream",
     "text": [
      "Score\n",
      "5    173376\n",
      "4     37399\n",
      "1     24483\n",
      "3     19476\n",
      "2     13721\n",
      "Name: count, dtype: int64\n",
      "Id                         0\n",
      "ProductId                  0\n",
      "UserId                     0\n",
      "ProfileName               11\n",
      "HelpfulnessNumerator       0\n",
      "HelpfulnessDenominator     0\n",
      "Score                      0\n",
      "Time                       0\n",
      "Summary                   15\n",
      "Text                       0\n",
      "dtype: int64\n"
     ]
    }
   ],
   "source": [
    "print(df['Score'].value_counts())\n",
    "print(df.isnull().sum())"
   ]
  },
  {
   "cell_type": "code",
   "execution_count": 16,
   "id": "19b8b948-fc33-42d5-af10-94d65685c393",
   "metadata": {},
   "outputs": [],
   "source": [
    "df['Text'] = df['Text'].str.lower().str.replace('[^a-z ]', '', regex=True)\n"
   ]
  },
  {
   "cell_type": "code",
   "execution_count": 18,
   "id": "b3467cca-e83d-4634-b854-22ba1108bf28",
   "metadata": {},
   "outputs": [],
   "source": [
    "df = df[df['Text'].str.len() > 10]\n"
   ]
  },
  {
   "cell_type": "code",
   "execution_count": 19,
   "id": "49c3a7e1-16e4-4205-aaf7-0738f98e48c3",
   "metadata": {},
   "outputs": [
    {
     "name": "stdout",
     "output_type": "stream",
     "text": [
      "Score\n",
      "5    173376\n",
      "4     37399\n",
      "1     24483\n",
      "3     19476\n",
      "2     13721\n",
      "Name: count, dtype: int64\n"
     ]
    }
   ],
   "source": [
    "print(df['Score'].value_counts())\n"
   ]
  },
  {
   "cell_type": "code",
   "execution_count": 20,
   "id": "e6ca0d1f-3b76-4173-8c20-e5a1574468a8",
   "metadata": {},
   "outputs": [],
   "source": [
    "df = pd.read_csv('data/Day3 Data/Reviews-1.csv')"
   ]
  },
  {
   "cell_type": "code",
   "execution_count": 22,
   "id": "16576745-d30a-4538-9bb3-6032a6ce427a",
   "metadata": {},
   "outputs": [],
   "source": [
    "df = pd.read_csv('data/Day4 Data/amazon_fashion.csv')"
   ]
  },
  {
   "cell_type": "code",
   "execution_count": 23,
   "id": "8189bf95-5018-415e-b4bb-ce67ba275e71",
   "metadata": {},
   "outputs": [
    {
     "name": "stdout",
     "output_type": "stream",
     "text": [
      "Index(['rating', 'title', 'text', 'images', 'asin', 'parent_asin', 'user_id',\n",
      "       'timestamp', 'helpful_vote', 'verified_purchases', 'target'],\n",
      "      dtype='object')\n"
     ]
    }
   ],
   "source": [
    "column_names = df.columns\n",
    "print(column_names)"
   ]
  },
  {
   "cell_type": "code",
   "execution_count": 24,
   "id": "11b24fbe-847a-467b-9ca3-684944df9103",
   "metadata": {},
   "outputs": [
    {
     "name": "stdout",
     "output_type": "stream",
     "text": [
      "rating\n",
      "1.0    173462\n",
      "2.0    173462\n",
      "3.0    173462\n",
      "4.0    173462\n",
      "5.0    173462\n",
      "Name: count, dtype: int64\n"
     ]
    }
   ],
   "source": [
    "print(df['rating'].value_counts())"
   ]
  },
  {
   "cell_type": "code",
   "execution_count": 25,
   "id": "cba62058-fb13-4ce9-a990-22ad8b81e08b",
   "metadata": {},
   "outputs": [
    {
     "name": "stdout",
     "output_type": "stream",
     "text": [
      "rating\n",
      "1.0    173462\n",
      "2.0    173462\n",
      "3.0    173462\n",
      "4.0    173462\n",
      "5.0    173462\n",
      "Name: count, dtype: int64\n",
      "rating                  0\n",
      "title                 203\n",
      "text                  298\n",
      "images                  0\n",
      "asin                    0\n",
      "parent_asin             0\n",
      "user_id                 0\n",
      "timestamp               0\n",
      "helpful_vote            0\n",
      "verified_purchases      0\n",
      "target                  0\n",
      "dtype: int64\n"
     ]
    }
   ],
   "source": [
    "print(df['rating'].value_counts())\n",
    "print(df.isnull().sum())\n"
   ]
  },
  {
   "cell_type": "code",
   "execution_count": 27,
   "id": "5a57748e-f1e6-44fb-9671-01c3f5827526",
   "metadata": {},
   "outputs": [],
   "source": [
    "df = pd.read_csv('data/Day4 Data/amazon_fashion.csv')\n"
   ]
  },
  {
   "cell_type": "code",
   "execution_count": 28,
   "id": "099849a4-3135-4614-b8fe-6419a9bd98a8",
   "metadata": {},
   "outputs": [],
   "source": [
    "df = df.dropna(subset=['text', 'rating'])\n"
   ]
  },
  {
   "cell_type": "code",
   "execution_count": 29,
   "id": "b2909bc0-4231-460a-9056-7800411fdff5",
   "metadata": {},
   "outputs": [],
   "source": [
    "df = df.drop_duplicates()\n"
   ]
  },
  {
   "cell_type": "code",
   "execution_count": 30,
   "id": "3c66d9ce-6e4e-43fb-b781-bfaacf29d51d",
   "metadata": {},
   "outputs": [],
   "source": [
    "df['text'] = df['text'].str.lower().str.replace('[^a-z ]', '', regex=True)\n"
   ]
  },
  {
   "cell_type": "code",
   "execution_count": 31,
   "id": "0bdc7bea-47d4-4fa1-9eca-3480b11ed884",
   "metadata": {},
   "outputs": [
    {
     "name": "stdout",
     "output_type": "stream",
     "text": [
      "rating\n",
      "5.0    173108\n",
      "4.0    172461\n",
      "1.0    172275\n",
      "3.0    172247\n",
      "2.0    171657\n",
      "Name: count, dtype: int64\n"
     ]
    }
   ],
   "source": [
    "print(df['rating'].value_counts())\n"
   ]
  },
  {
   "cell_type": "code",
   "execution_count": 32,
   "id": "e5c6d937-e73d-4b09-b215-389e23c6636c",
   "metadata": {},
   "outputs": [],
   "source": [
    "import os\n",
    "os.makedirs('data/cleaned_day4dataset', exist_ok=True)\n",
    "df.to_csv('data/cleaned_dataset/cleaned_day4data.csv', index=False)\n"
   ]
  },
  {
   "cell_type": "code",
   "execution_count": 33,
   "id": "5c929b58-777e-441d-895e-142736354a02",
   "metadata": {},
   "outputs": [
    {
     "data": {
      "text/plain": [
       "<Axes: title={'center': 'Rating Distribution'}, xlabel='rating'>"
      ]
     },
     "execution_count": 33,
     "metadata": {},
     "output_type": "execute_result"
    },
    {
     "data": {
      "image/png": "[encoded data removed]",
      "text/plain": [
       "<Figure size 640x480 with 1 Axes>"
      ]
     },
     "metadata": {},
     "output_type": "display_data"
    }
   ],
   "source": [
    "df['rating'].value_counts().sort_index().plot(kind='bar', title='Rating Distribution')\n"
   ]
  },
  {
   "cell_type": "code",
   "execution_count": 34,
   "id": "6de0a67e-13ad-41bb-9909-215b407fa76d",
   "metadata": {},
   "outputs": [
    {
     "data": {
      "text/plain": [
       "<Axes: title={'center': 'Review Length Distribution'}, ylabel='Frequency'>"
      ]
     },
     "execution_count": 34,
     "metadata": {},
     "output_type": "execute_result"
    },
    {
     "data": {
      "image/png": "[encoded data removed]",
      "text/plain": [
       "<Figure size 640x480 with 1 Axes>"
      ]
     },
     "metadata": {},
     "output_type": "display_data"
    }
   ],
   "source": [
    "df['text'].str.len().plot(kind='hist', bins=20, title='Review Length Distribution')\n"
   ]
  },
  {
   "cell_type": "code",
   "execution_count": 35,
   "id": "92cd9545-0a74-4f2f-ac3b-d8514d1547cc",
   "metadata": {},
   "outputs": [],
   "source": [
    "balanced_df = df.groupby('rating').sample(n=2000, random_state=42, replace=True)\n"
   ]
  },
  {
   "cell_type": "code",
   "execution_count": 36,
   "id": "e0bdb1d8-1c0a-466d-adab-4895e757f9aa",
   "metadata": {},
   "outputs": [],
   "source": [
    "balanced_df.to_csv('data/cleaned_dataset/balanced_data.csv', index=False)\n"
   ]
  },
  {
   "cell_type": "code",
   "execution_count": null,
   "id": "836878b7-4cc0-48a3-ac23-8f0809f0715b",
   "metadata": {},
   "outputs": [],
   "source": []
  }
 ],
 "metadata": {
  "kernelspec": {
   "display_name": "Python [conda env:base] *",
   "language": "python",
   "name": "conda-base-py"
  },
  "language_info": {
   "codemirror_mode": {
    "name": "ipython",
    "version": 3
   },
   "file_extension": ".py",
   "mimetype": "text/x-python",
   "name": "python",
   "nbconvert_exporter": "python",
   "pygments_lexer": "ipython3",
   "version": "3.13.5"
  }
 },
 "nbformat": 4,
 "nbformat_minor": 5
}
