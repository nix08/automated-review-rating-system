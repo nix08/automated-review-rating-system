{
 "cells": [
  {
   "cell_type": "code",
   "execution_count": 1,
   "id": "75ad53a6",
   "metadata": {},
   "outputs": [
    {
     "data": {
      "text/plain": [
       "['vectorizer_model_A.pkl']"
      ]
     },
     "execution_count": 1,
     "metadata": {},
     "output_type": "execute_result"
    }
   ],
   "source": [
    "import pandas as pd\n",
    "from sklearn.feature_extraction.text import TfidfVectorizer\n",
    "from sklearn.linear_model import LogisticRegression\n",
    "import joblib\n",
    "\n",
    "# 1. Load your balanced, lemmatized data\n",
    "df = pd.read_csv('data/cleaned_dataset/balanced_data_lemmatized.csv')\n",
    "\n",
    "# 2. Prepare features and labels\n",
    "X = df['lemmatized_text']\n",
    "y = df['Score']\n",
    "\n",
    "# 3. Fit the vectorizer on full training data\n",
    "vectorizer = TfidfVectorizer(max_features=5000)\n",
    "X_vec = vectorizer.fit_transform(X)\n",
    "\n",
    "# 4. Train the model\n",
    "model = LogisticRegression(max_iter=1000)\n",
    "model.fit(X_vec, y)\n",
    "\n",
    "# 5. Save BOTH model and vectorizer (IN THE SAME CODE CELL, IMMEDIATELY!)\n",
    "joblib.dump(model, \"model_A_balanced.pkl\")\n",
    "joblib.dump(vectorizer, \"vectorizer_model_A.pkl\")\n"
   ]
  },
  {
   "cell_type": "code",
   "execution_count": 2,
   "id": "03e9e9a6",
   "metadata": {},
   "outputs": [
    {
     "name": "stdout",
     "output_type": "stream",
     "text": [
      "Model expects features: 5000\n",
      "Loaded vectorizer gives: 5000\n"
     ]
    }
   ],
   "source": [
    "model_loaded = joblib.load(\"model_A_balanced.pkl\")\n",
    "vectorizer_loaded = joblib.load(\"vectorizer_model_A.pkl\")\n",
    "X_loaded = vectorizer_loaded.transform(X)\n",
    "print(\"Model expects features:\", model_loaded.n_features_in_)\n",
    "print(\"Loaded vectorizer gives:\", X_loaded.shape[1])\n",
    "# Should print exactly the same number!\n"
   ]
  },
  {
   "cell_type": "code",
   "execution_count": null,
   "id": "44e44a9f",
   "metadata": {},
   "outputs": [],
   "source": []
  }
 ],
 "metadata": {
  "kernelspec": {
   "display_name": "base",
   "language": "python",
   "name": "python3"
  },
  "language_info": {
   "codemirror_mode": {
    "name": "ipython",
    "version": 3
   },
   "file_extension": ".py",
   "mimetype": "text/x-python",
   "name": "python",
   "nbconvert_exporter": "python",
   "pygments_lexer": "ipython3",
   "version": "3.13.5"
  }
 },
 "nbformat": 4,
 "nbformat_minor": 5
}
