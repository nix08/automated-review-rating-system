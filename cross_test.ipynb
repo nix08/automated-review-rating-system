{
 "cells": [
  {
   "cell_type": "markdown",
   "id": "55a8b0ac",
   "metadata": {},
   "source": [
    "# Cross-Testing: Imbalanced-Trained Model on Balanced Data\n",
    "This notebook loads the model trained on imbalanced data and evaluates it on the balanced, lemmatized dataset for robustness validation."
   ]
  },
  {
   "cell_type": "code",
   "execution_count": 44,
   "id": "50e77efe",
   "metadata": {},
   "outputs": [
    {
     "data": {
      "text/html": [
       "<div>\n",
       "<style scoped>\n",
       "    .dataframe tbody tr th:only-of-type {\n",
       "        vertical-align: middle;\n",
       "    }\n",
       "\n",
       "    .dataframe tbody tr th {\n",
       "        vertical-align: top;\n",
       "    }\n",
       "\n",
       "    .dataframe thead th {\n",
       "        text-align: right;\n",
       "    }\n",
       "</style>\n",
       "<table border=\"1\" class=\"dataframe\">\n",
       "  <thead>\n",
       "    <tr style=\"text-align: right;\">\n",
       "      <th></th>\n",
       "      <th>Text</th>\n",
       "      <th>lemmatized_text</th>\n",
       "      <th>Score</th>\n",
       "    </tr>\n",
       "  </thead>\n",
       "  <tbody>\n",
       "    <tr>\n",
       "      <th>0</th>\n",
       "      <td>i keep this in my regular rotation of keurig b...</td>\n",
       "      <td>i keep this in my regular rotation of keurig b...</td>\n",
       "      <td>4</td>\n",
       "    </tr>\n",
       "    <tr>\n",
       "      <th>1</th>\n",
       "      <td>now that this is made in mexico it s much swee...</td>\n",
       "      <td>now that this is made in mexico it s much swee...</td>\n",
       "      <td>3</td>\n",
       "    </tr>\n",
       "    <tr>\n",
       "      <th>2</th>\n",
       "      <td>these are not as described these are not the c...</td>\n",
       "      <td>these are not a described these are not the ch...</td>\n",
       "      <td>1</td>\n",
       "    </tr>\n",
       "    <tr>\n",
       "      <th>3</th>\n",
       "      <td>disappointed in the product overly expensive a...</td>\n",
       "      <td>disappointed in the product overly expensive a...</td>\n",
       "      <td>3</td>\n",
       "    </tr>\n",
       "    <tr>\n",
       "      <th>4</th>\n",
       "      <td>i use this lemon oil to add a few drops to my ...</td>\n",
       "      <td>i use this lemon oil to add a few drop to my d...</td>\n",
       "      <td>3</td>\n",
       "    </tr>\n",
       "  </tbody>\n",
       "</table>\n",
       "</div>"
      ],
      "text/plain": [
       "                                                Text  \\\n",
       "0  i keep this in my regular rotation of keurig b...   \n",
       "1  now that this is made in mexico it s much swee...   \n",
       "2  these are not as described these are not the c...   \n",
       "3  disappointed in the product overly expensive a...   \n",
       "4  i use this lemon oil to add a few drops to my ...   \n",
       "\n",
       "                                     lemmatized_text  Score  \n",
       "0  i keep this in my regular rotation of keurig b...      4  \n",
       "1  now that this is made in mexico it s much swee...      3  \n",
       "2  these are not a described these are not the ch...      1  \n",
       "3  disappointed in the product overly expensive a...      3  \n",
       "4  i use this lemon oil to add a few drop to my d...      3  "
      ]
     },
     "execution_count": 44,
     "metadata": {},
     "output_type": "execute_result"
    }
   ],
   "source": [
    "import pandas as pd\n",
    "import joblib\n",
    "\n",
    "# Paths and column names\n",
    "BALANCED_LEMMA_PATH = r\"D:\\Projects\\automated-review-rating-system\\data\\cleaned_dataset\\balanced_data_lemmatized.csv\"\n",
    "MODEL_PATH = \"model_B_imbalanced.pkl\"\n",
    "VECTORIZER_PATH = \"vectorizer_model_B.pkl\"\n",
    "REVIEW_COL = \"Text\"\n",
    "LEMMATIZED_COL = \"lemmatized_text\"\n",
    "LABEL_COL = \"Score\"\n",
    "\n",
    "# Load balanced, lemmatized data\n",
    "df_balanced = pd.read_csv(BALANCED_LEMMA_PATH)\n",
    "df_balanced.head()\n"
   ]
  },
  {
   "cell_type": "markdown",
   "id": "e3386851",
   "metadata": {},
   "source": [
    "## Load Imbalanced-Trained Model & Vectorizer\n",
    "Load the pre-trained Logistic Regression model and its associated TF-IDF vectorizer."
   ]
  },
  {
   "cell_type": "code",
   "execution_count": 45,
   "id": "32859e75",
   "metadata": {},
   "outputs": [],
   "source": [
    "model = joblib.load(MODEL_PATH)\n",
    "vectorizer = joblib.load(VECTORIZER_PATH)\n"
   ]
  },
  {
   "cell_type": "markdown",
   "id": "85c23839",
   "metadata": {},
   "source": [
    "## Prepare Features and Labels for Cross-Testing\n",
    "Extract TF-IDF features using the **same vectorizer instance** and get ground-truth labels."
   ]
  },
  {
   "cell_type": "code",
   "execution_count": 46,
   "id": "9f691bca",
   "metadata": {},
   "outputs": [],
   "source": [
    "X_cross = df_balanced[LEMMATIZED_COL]\n",
    "y_cross = df_balanced[LABEL_COL]\n",
    "\n",
    "# Transform using the existing vectorizer\n",
    "X_cross_vec = vectorizer.transform(X_cross)\n"
   ]
  },
  {
   "cell_type": "markdown",
   "id": "8c32e0a0",
   "metadata": {},
   "source": [
    "## Cross-Validation: Predict & Evaluate"
   ]
  },
  {
   "cell_type": "code",
   "execution_count": 47,
   "id": "7edb6b82",
   "metadata": {},
   "outputs": [
    {
     "name": "stdout",
     "output_type": "stream",
     "text": [
      "Cross-Test Accuracy: 0.3861\n",
      "\n",
      "Confusion Matrix:\n",
      " [[ 675  398  419  257  251]\n",
      " [ 277  416  651  438  218]\n",
      " [ 145  300  742  602  211]\n",
      " [  68   80  440  935  477]\n",
      " [  75   69  217  546 1093]]\n",
      "\n",
      "Classification Report:\n",
      "               precision    recall  f1-score   support\n",
      "\n",
      "           1       0.54      0.34      0.42      2000\n",
      "           2       0.33      0.21      0.25      2000\n",
      "           3       0.30      0.37      0.33      2000\n",
      "           4       0.34      0.47      0.39      2000\n",
      "           5       0.49      0.55      0.51      2000\n",
      "\n",
      "    accuracy                           0.39     10000\n",
      "   macro avg       0.40      0.39      0.38     10000\n",
      "weighted avg       0.40      0.39      0.38     10000\n",
      "\n"
     ]
    }
   ],
   "source": [
    "from sklearn.metrics import classification_report, confusion_matrix, accuracy_score\n",
    "\n",
    "y_cross_pred = model.predict(X_cross_vec)\n",
    "\n",
    "print(\"Cross-Test Accuracy:\", accuracy_score(y_cross, y_cross_pred))\n",
    "print(\"\\nConfusion Matrix:\\n\", confusion_matrix(y_cross, y_cross_pred))\n",
    "print(\"\\nClassification Report:\\n\", classification_report(y_cross, y_cross_pred))\n"
   ]
  },
  {
   "cell_type": "markdown",
   "id": "6714688b",
   "metadata": {},
   "source": [
    "## Confusion Matrix Visualization"
   ]
  },
  {
   "cell_type": "code",
   "execution_count": 48,
   "id": "833f9e00",
   "metadata": {},
   "outputs": [
    {
     "data": {
      "image/png": "[encoded data removed]",
      "text/plain": [
       "<Figure size 800x600 with 2 Axes>"
      ]
     },
     "metadata": {},
     "output_type": "display_data"
    }
   ],
   "source": [
    "import matplotlib.pyplot as plt\n",
    "import seaborn as sns\n",
    "\n",
    "labels = sorted(df_balanced[LABEL_COL].unique())\n",
    "cm = confusion_matrix(y_cross, y_cross_pred, labels=labels)\n",
    "plt.figure(figsize=(8,6))\n",
    "sns.heatmap(cm, annot=True, fmt='d', cmap='Blues',\n",
    "            xticklabels=labels,\n",
    "            yticklabels=labels)\n",
    "plt.xlabel(\"Predicted\")\n",
    "plt.ylabel(\"Actual\")\n",
    "plt.title(\"Confusion Matrix: Cross-Test\")\n",
    "plt.show()\n"
   ]
  }
 ],
 "metadata": {
  "kernelspec": {
   "display_name": "base",
   "language": "python",
   "name": "python3"
  },
  "language_info": {
   "codemirror_mode": {
    "name": "ipython",
    "version": 3
   },
   "file_extension": ".py",
   "mimetype": "text/x-python",
   "name": "python",
   "nbconvert_exporter": "python",
   "pygments_lexer": "ipython3",
   "version": "3.13.5"
  }
 },
 "nbformat": 4,
 "nbformat_minor": 5
}
